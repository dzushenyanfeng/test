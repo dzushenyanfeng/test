{
 "cells": [
  {
   "cell_type": "code",
   "execution_count": 1,
   "metadata": {},
   "outputs": [],
   "source": [
    "#-*— coding:utf-8 -*-\n",
    "#Program 0.3 Lagrange Interpolation\n",
    "import matplotlib.pyplot as plt\n",
    "import numpy as np\n",
    "import scipy as np"
   ]
  },
  {
   "cell_type": "markdown",
   "metadata": {},
   "source": [
    "编写Lagrange插值函数，$f(x)=\\sum_{i=0}^n y_i\\ell_i(x)\\ \\ \\ i=0,\\ldots,n$,\n",
    "其中\n",
    "$$\\ell_i(x)=\\prod_{j=0,j\\neq i}^n\\frac{x-x_j}{x_i-x_j}=\\frac{(x-x_0)\\cdot(x-x_{i-1})(x-x_{i+1})\\cdot (x-x_n)}{(x_i-x_0)\\cdot(x_i-x_{i-1})(x_i-x_{i+1})\\cdot (x_i-x_n)}$$\n",
    "<font color=#00ffff size=5>注：</font>\n",
    "\n",
    "<font color=gray size=4>实现时候，公式中的n直接用向量x的长度代替</font>"
   ]
  },
  {
   "cell_type": "code",
   "execution_count": 2,
   "metadata": {},
   "outputs": [],
   "source": [
    "def Lagrange(x, y, xn):\n",
    "    ans = 0.0\n",
    " \n",
    "    #两重循环实现插值\n",
    "    for i in range(len(y)):\n",
    "        t = y[i]\n",
    "        for j in range(len(y)):\n",
    "            if i != j:\n",
    "                t *= (xn - x[j]) / (x[i] - x[j])\n",
    "        ans += t\n",
    "    return ans"
   ]
  },
  {
   "cell_type": "markdown",
   "metadata": {},
   "source": [
    "已知sin0.32=0.314567,sin0.34=0.333487,sin0.36=0.352274.用线性插值计算和抛物插值计算sin0.3367的值并估算误差."
   ]
  },
  {
   "cell_type": "code",
   "execution_count": 5,
   "metadata": {},
   "outputs": [],
   "source": [
    "x = [0.32,0.34,0.36]\n",
    "y = [0.314567,0.333487,0.352274] "
   ]
  },
  {
   "cell_type": "markdown",
   "metadata": {},
   "source": [
    "利用两点和三点Lagrange插值公式计算sin0.3367的近似值"
   ]
  },
  {
   "cell_type": "code",
   "execution_count": 8,
   "metadata": {},
   "outputs": [],
   "source": [
    "xn = 0.3367\n",
    "yn_1 = Lagrange(x[0:1],y[0:1],xn)\n",
    "yn_2 = Lagrange(x,y,xn)"
   ]
  },
  {
   "cell_type": "markdown",
   "metadata": {},
   "source": [
    "按照Lagrange余项定理计算误差\n",
    "$$R_n(x)=\\frac{f^{(n+1)}(\\xi)}{(n+1)!}w_n(x)=\\frac{f^{(n+1)}(\\xi)}{(n+1)!}(x-x_0)\\cdots(x-x_n)$$\n",
    "\n",
    "故有$$|R_1(x)|=\\frac{|f^{''}(\\xi)|}{2}(xn-x_0)(xn-x_1)\\leq\\frac{1}{2}(xn-x_0)(xn-x_1)$$和\n",
    "$|R_1(x)|=\\frac{|f^{(3)}(\\xi)|}{6}(xn-x_0)(xn-x_1)(xn-x_2)\\leq \\frac{1}{6}(xn-x_0)(xn-x_1)(xn-x_2)$"
   ]
  },
  {
   "cell_type": "code",
   "execution_count": 26,
   "metadata": {},
   "outputs": [
    {
     "data": {
      "text/plain": [
       "(-2.7555000000000196e-05, 2.140105000000014e-07)"
      ]
     },
     "execution_count": 26,
     "metadata": {},
     "output_type": "execute_result"
    }
   ],
   "source": [
    "nerror1=(xn-x[0])*(xn-x[1])/2\n",
    "nerror2=(xn-x[0])*(xn-x[1])*(xn-x[2])/6\n",
    "nerror1,nerror2"
   ]
  },
  {
   "cell_type": "markdown",
   "metadata": {},
   "source": [
    "真实计算误差, l"
   ]
  },
  {
   "cell_type": "code",
   "execution_count": 25,
   "metadata": {},
   "outputs": [
    {
     "data": {
      "text/plain": [
       "(0.015807191555628042, -1.704818718972767e-07)"
      ]
     },
     "execution_count": 25,
     "metadata": {},
     "output_type": "execute_result"
    }
   ],
   "source": [
    "yr=np.sin(xn)\n",
    "error1 = yr-yn_1\n",
    "error2 = yr-yn_2\n",
    "error1,error2"
   ]
  },
  {
   "cell_type": "code",
   "execution_count": null,
   "metadata": {},
   "outputs": [],
   "source": []
  },
  {
   "cell_type": "code",
   "execution_count": null,
   "metadata": {},
   "outputs": [],
   "source": []
  }
 ],
 "metadata": {
  "kernelspec": {
   "display_name": "Python 3",
   "language": "python",
   "name": "python3"
  },
  "language_info": {
   "codemirror_mode": {
    "name": "ipython",
    "version": 3
   },
   "file_extension": ".py",
   "mimetype": "text/x-python",
   "name": "python",
   "nbconvert_exporter": "python",
   "pygments_lexer": "ipython3",
   "version": "3.6.4"
  }
 },
 "nbformat": 4,
 "nbformat_minor": 2
}
